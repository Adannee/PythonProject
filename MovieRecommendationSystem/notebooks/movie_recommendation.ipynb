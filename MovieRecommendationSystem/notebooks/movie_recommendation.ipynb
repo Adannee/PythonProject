{
 "cells": [
  {
   "cell_type": "code",
   "execution_count": null,
   "id": "1dfdf232-0aaa-4818-9c12-e089027a3019",
   "metadata": {},
   "outputs": [],
   "source": [
    "import pandas as pd\n",
    "from sklearn.feature_extraction.text import TfidfVectorizer\n",
    "from sklearn.metrics.pairwise import cosine_similarity\n",
    "from surprise import Dataset, Reader, SVD\n",
    "from surprise.model_selection import train_test_split, cross_validate\n",
    "from surprise import accuracy\n",
    "\n",
    "movies_columns = [\"movieId\", \"title\", \"genres\"]\n",
    "ratings_columns = [\"userId\", \"movieId\", \"rating\", \"timestamp\"]\n",
    "\n",
    "\n",
    "movies = pd.read_csv(\"/Users/ivyadiele/Downloads/ml-1m/movies.dat\", sep=\"::\", names=movies_columns, engine=\"python\", encoding=\"ISO-8859-1\")\n",
    "ratings = pd.read_csv(\"/Users/ivyadiele/Downloads/ml-1m/ratings.dat\", sep=\"::\", names=ratings_columns, engine=\"python\")\n",
    "\n",
    "print(movies.head())\n",
    "print(ratings.head())"
   ]
  },
  {
   "cell_type": "code",
   "execution_count": 34,
   "id": "1cf3d552-fb34-4af1-a51f-20636486425d",
   "metadata": {},
   "outputs": [],
   "source": [
    "movie_data = pd.merge(ratings, movies, on= \"movieId\")\n",
    "\n",
    "movie_data.drop(columns=[\"timestamp\"], inplace=True)"
   ]
  },
  {
   "cell_type": "code",
   "execution_count": 14,
   "id": "47281695-17c3-46f9-9cdd-0132210c139e",
   "metadata": {},
   "outputs": [
    {
     "data": {
      "text/html": [
       "<div>\n",
       "<style scoped>\n",
       "    .dataframe tbody tr th:only-of-type {\n",
       "        vertical-align: middle;\n",
       "    }\n",
       "\n",
       "    .dataframe tbody tr th {\n",
       "        vertical-align: top;\n",
       "    }\n",
       "\n",
       "    .dataframe thead th {\n",
       "        text-align: right;\n",
       "    }\n",
       "</style>\n",
       "<table border=\"1\" class=\"dataframe\">\n",
       "  <thead>\n",
       "    <tr style=\"text-align: right;\">\n",
       "      <th></th>\n",
       "      <th>userId</th>\n",
       "      <th>movieId</th>\n",
       "      <th>rating</th>\n",
       "      <th>title</th>\n",
       "      <th>genres</th>\n",
       "    </tr>\n",
       "  </thead>\n",
       "  <tbody>\n",
       "    <tr>\n",
       "      <th>0</th>\n",
       "      <td>1</td>\n",
       "      <td>1193</td>\n",
       "      <td>5</td>\n",
       "      <td>One Flew Over the Cuckoo's Nest (1975)</td>\n",
       "      <td>Drama</td>\n",
       "    </tr>\n",
       "    <tr>\n",
       "      <th>1</th>\n",
       "      <td>1</td>\n",
       "      <td>661</td>\n",
       "      <td>3</td>\n",
       "      <td>James and the Giant Peach (1996)</td>\n",
       "      <td>Animation|Children's|Musical</td>\n",
       "    </tr>\n",
       "    <tr>\n",
       "      <th>2</th>\n",
       "      <td>1</td>\n",
       "      <td>914</td>\n",
       "      <td>3</td>\n",
       "      <td>My Fair Lady (1964)</td>\n",
       "      <td>Musical|Romance</td>\n",
       "    </tr>\n",
       "    <tr>\n",
       "      <th>3</th>\n",
       "      <td>1</td>\n",
       "      <td>3408</td>\n",
       "      <td>4</td>\n",
       "      <td>Erin Brockovich (2000)</td>\n",
       "      <td>Drama</td>\n",
       "    </tr>\n",
       "    <tr>\n",
       "      <th>4</th>\n",
       "      <td>1</td>\n",
       "      <td>2355</td>\n",
       "      <td>5</td>\n",
       "      <td>Bug's Life, A (1998)</td>\n",
       "      <td>Animation|Children's|Comedy</td>\n",
       "    </tr>\n",
       "  </tbody>\n",
       "</table>\n",
       "</div>"
      ],
      "text/plain": [
       "   userId  movieId  rating                                   title  \\\n",
       "0       1     1193       5  One Flew Over the Cuckoo's Nest (1975)   \n",
       "1       1      661       3        James and the Giant Peach (1996)   \n",
       "2       1      914       3                     My Fair Lady (1964)   \n",
       "3       1     3408       4                  Erin Brockovich (2000)   \n",
       "4       1     2355       5                    Bug's Life, A (1998)   \n",
       "\n",
       "                         genres  \n",
       "0                         Drama  \n",
       "1  Animation|Children's|Musical  \n",
       "2               Musical|Romance  \n",
       "3                         Drama  \n",
       "4   Animation|Children's|Comedy  "
      ]
     },
     "execution_count": 14,
     "metadata": {},
     "output_type": "execute_result"
    }
   ],
   "source": [
    "movie_data.head()"
   ]
  },
  {
   "cell_type": "code",
   "execution_count": 20,
   "id": "226755bc-6003-439b-8421-8fe32d511492",
   "metadata": {},
   "outputs": [],
   "source": [
    "tfidf = TfidfVectorizer(stop_words = \"english\")\n",
    "tfidf_matrix = tfidf.fit_transform(movies[\"genres\"].fillna(\"\"))\n",
    "\n",
    "cosine_sim = cosine_similarity(tfidf_matrix, tfidf_matrix)"
   ]
  },
  {
   "cell_type": "code",
   "execution_count": 22,
   "id": "5ed0f8b4-cd45-48ed-b8c8-66c0dfb9fcb9",
   "metadata": {},
   "outputs": [],
   "source": [
    "def recommend_movies(title, num=5):\n",
    "    idx = movies.loc[movies['title'] == title].index[0]\n",
    "    scores = list(enumerate(cosine_sim[idx]))\n",
    "    sorted_scores = sorted(scores, key=lambda x: x[1], reverse=True)[1:num+1]\n",
    "    \n",
    "    recommended_movies = [movies.iloc[i[0]].title for i in sorted_scores]\n",
    "    return recommended_movies"
   ]
  },
  {
   "cell_type": "code",
   "execution_count": 24,
   "id": "b4399b17-9d65-48db-9a82-277eb40a0b42",
   "metadata": {},
   "outputs": [
    {
     "name": "stdout",
     "output_type": "stream",
     "text": [
      "['Aladdin and the King of Thieves (1996)', 'American Tail, An (1986)', 'American Tail: Fievel Goes West, An (1991)', 'Rugrats Movie, The (1998)', \"Bug's Life, A (1998)\"]\n"
     ]
    }
   ],
   "source": [
    "print(recommend_movies(\"Toy Story (1995)\"))"
   ]
  },
  {
   "cell_type": "code",
   "execution_count": 28,
   "id": "6a589d52-8922-4641-85fa-0a0dfefc6cfd",
   "metadata": {},
   "outputs": [
    {
     "name": "stdout",
     "output_type": "stream",
     "text": [
      "['American in Paris, An (1951)', 'My Fair Lady (1964)', 'Dirty Dancing (1987)', 'West Side Story (1961)', 'Gay Divorcee, The (1934)']\n"
     ]
    }
   ],
   "source": [
    "print(recommend_movies(\"My Fair Lady (1964)\"))"
   ]
  },
  {
   "cell_type": "code",
   "execution_count": 38,
   "id": "0f6e3bde-b245-4034-8212-0ad6c5728e85",
   "metadata": {},
   "outputs": [],
   "source": [
    "reader = Reader(rating_scale=(0.5, 5.0))\n",
    "\n",
    "data = Dataset.load_from_df(movie_data[['userId', 'movieId', 'rating']], reader)"
   ]
  },
  {
   "cell_type": "code",
   "execution_count": 40,
   "id": "276d3e72-1074-4617-98ea-4cebc7b941bb",
   "metadata": {},
   "outputs": [],
   "source": [
    "trainset, testset = train_test_split(data, test_size=0.2)"
   ]
  },
  {
   "cell_type": "code",
   "execution_count": 42,
   "id": "9d014b8e-361e-4a33-b56a-1ab490b42362",
   "metadata": {},
   "outputs": [
    {
     "data": {
      "text/plain": [
       "<surprise.prediction_algorithms.matrix_factorization.SVD at 0x169770140>"
      ]
     },
     "execution_count": 42,
     "metadata": {},
     "output_type": "execute_result"
    }
   ],
   "source": [
    "model = SVD()\n",
    "model.fit(trainset)"
   ]
  },
  {
   "cell_type": "code",
   "execution_count": 50,
   "id": "e1e8921b-18a8-4c94-a4d3-da9b9d28a137",
   "metadata": {},
   "outputs": [],
   "source": [
    "predictions = model.test(testset)"
   ]
  },
  {
   "cell_type": "code",
   "execution_count": 52,
   "id": "7decbba3-35ca-4125-966f-368f989e0c52",
   "metadata": {},
   "outputs": [
    {
     "name": "stdout",
     "output_type": "stream",
     "text": [
      "RMSE: 0.8730\n"
     ]
    },
    {
     "data": {
      "text/plain": [
       "0.8730312251764153"
      ]
     },
     "execution_count": 52,
     "metadata": {},
     "output_type": "execute_result"
    }
   ],
   "source": [
    "accuracy.rmse(predictions)"
   ]
  },
  {
   "cell_type": "code",
   "execution_count": null,
   "id": "1985c249-ee79-49cd-a710-6c279c5bfa48",
   "metadata": {},
   "outputs": [],
   "source": [
    "movie_data.info()"
   ]
  },
  {
   "cell_type": "code",
   "execution_count": null,
   "id": "f64f8423-3889-4bff-aff9-cfaa6e47896d",
   "metadata": {},
   "outputs": [],
   "source": [
    "mtotal_movies = movies[\"movieId\"].nunique()\n",
    "unique_users = ratings[\"userId\"].nunique()\n",
    "total_ratings = ratings.shape[0]\n",
    "\n",
    "print(f\"Total Movies: {total_movies}\")\n",
    "print(f\"Unique Users: {unique_users}\")\n",
    "print(f\"Total Ratings: {total_ratings}\")"
   ]
  },
  {
   "cell_type": "code",
   "execution_count": null,
   "id": "660edc7e-0767-41a5-8090-e2e955a9bc3c",
   "metadata": {},
   "outputs": [],
   "source": []
  }
 ],
 "metadata": {
  "kernelspec": {
   "display_name": "Python 3 (ipykernel)",
   "language": "python",
   "name": "python3"
  },
  "language_info": {
   "codemirror_mode": {
    "name": "ipython",
    "version": 3
   },
   "file_extension": ".py",
   "mimetype": "text/x-python",
   "name": "python",
   "nbconvert_exporter": "python",
   "pygments_lexer": "ipython3",
   "version": "3.12.4"
  }
 },
 "nbformat": 4,
 "nbformat_minor": 5
}
